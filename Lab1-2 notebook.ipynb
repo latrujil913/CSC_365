{
 "cells": [
  {
   "cell_type": "code",
   "execution_count": 1,
   "metadata": {},
   "outputs": [],
   "source": [
    "import pandas as pd"
   ]
  },
  {
   "cell_type": "code",
   "execution_count": 2,
   "metadata": {},
   "outputs": [
    {
     "data": {
      "text/html": [
       "<div>\n",
       "<style scoped>\n",
       "    .dataframe tbody tr th:only-of-type {\n",
       "        vertical-align: middle;\n",
       "    }\n",
       "\n",
       "    .dataframe tbody tr th {\n",
       "        vertical-align: top;\n",
       "    }\n",
       "\n",
       "    .dataframe thead th {\n",
       "        text-align: right;\n",
       "    }\n",
       "</style>\n",
       "<table border=\"1\" class=\"dataframe\">\n",
       "  <thead>\n",
       "    <tr style=\"text-align: right;\">\n",
       "      <th></th>\n",
       "      <th>StLastName</th>\n",
       "      <th>StFirstName</th>\n",
       "      <th>Grade</th>\n",
       "      <th>Classroom</th>\n",
       "      <th>Bus</th>\n",
       "      <th>Gpa</th>\n",
       "    </tr>\n",
       "  </thead>\n",
       "  <tbody>\n",
       "    <tr>\n",
       "      <th>0</th>\n",
       "      <td>COOKUS</td>\n",
       "      <td>XUAN</td>\n",
       "      <td>3</td>\n",
       "      <td>107</td>\n",
       "      <td>52</td>\n",
       "      <td>3.07</td>\n",
       "    </tr>\n",
       "    <tr>\n",
       "      <th>1</th>\n",
       "      <td>SCHOENECKER</td>\n",
       "      <td>PHUONG</td>\n",
       "      <td>6</td>\n",
       "      <td>109</td>\n",
       "      <td>0</td>\n",
       "      <td>3.15</td>\n",
       "    </tr>\n",
       "    <tr>\n",
       "      <th>2</th>\n",
       "      <td>ELHADDAD</td>\n",
       "      <td>SHANTE</td>\n",
       "      <td>3</td>\n",
       "      <td>107</td>\n",
       "      <td>52</td>\n",
       "      <td>2.86</td>\n",
       "    </tr>\n",
       "    <tr>\n",
       "      <th>3</th>\n",
       "      <td>RACANELLO</td>\n",
       "      <td>NOEL</td>\n",
       "      <td>6</td>\n",
       "      <td>102</td>\n",
       "      <td>56</td>\n",
       "      <td>3.13</td>\n",
       "    </tr>\n",
       "    <tr>\n",
       "      <th>4</th>\n",
       "      <td>WOOLERY</td>\n",
       "      <td>NOLAN</td>\n",
       "      <td>2</td>\n",
       "      <td>104</td>\n",
       "      <td>51</td>\n",
       "      <td>2.92</td>\n",
       "    </tr>\n",
       "  </tbody>\n",
       "</table>\n",
       "</div>"
      ],
      "text/plain": [
       "    StLastName StFirstName  Grade  Classroom  Bus   Gpa\n",
       "0       COOKUS        XUAN      3        107   52  3.07\n",
       "1  SCHOENECKER      PHUONG      6        109    0  3.15\n",
       "2     ELHADDAD      SHANTE      3        107   52  2.86\n",
       "3    RACANELLO        NOEL      6        102   56  3.13\n",
       "4      WOOLERY       NOLAN      2        104   51  2.92"
      ]
     },
     "execution_count": 2,
     "metadata": {},
     "output_type": "execute_result"
    }
   ],
   "source": [
    "columns = ['StLastName', 'StFirstName', 'Grade', 'Classroom', 'Bus', 'Gpa']\n",
    "students = pd.read_csv('list.txt', names=columns)\n",
    "students.head()"
   ]
  },
  {
   "cell_type": "code",
   "execution_count": 3,
   "metadata": {},
   "outputs": [
    {
     "data": {
      "text/html": [
       "<div>\n",
       "<style scoped>\n",
       "    .dataframe tbody tr th:only-of-type {\n",
       "        vertical-align: middle;\n",
       "    }\n",
       "\n",
       "    .dataframe tbody tr th {\n",
       "        vertical-align: top;\n",
       "    }\n",
       "\n",
       "    .dataframe thead th {\n",
       "        text-align: right;\n",
       "    }\n",
       "</style>\n",
       "<table border=\"1\" class=\"dataframe\">\n",
       "  <thead>\n",
       "    <tr style=\"text-align: right;\">\n",
       "      <th></th>\n",
       "      <th>TLastName</th>\n",
       "      <th>TFirstName</th>\n",
       "      <th>Classroom</th>\n",
       "    </tr>\n",
       "  </thead>\n",
       "  <tbody>\n",
       "    <tr>\n",
       "      <th>0</th>\n",
       "      <td>COOL</td>\n",
       "      <td>REUBEN</td>\n",
       "      <td>101</td>\n",
       "    </tr>\n",
       "    <tr>\n",
       "      <th>1</th>\n",
       "      <td>KERBS</td>\n",
       "      <td>BENITO</td>\n",
       "      <td>102</td>\n",
       "    </tr>\n",
       "    <tr>\n",
       "      <th>2</th>\n",
       "      <td>FALKER</td>\n",
       "      <td>ADOLPH</td>\n",
       "      <td>103</td>\n",
       "    </tr>\n",
       "    <tr>\n",
       "      <th>3</th>\n",
       "      <td>STEIB</td>\n",
       "      <td>GALE</td>\n",
       "      <td>104</td>\n",
       "    </tr>\n",
       "    <tr>\n",
       "      <th>4</th>\n",
       "      <td>HANTZ</td>\n",
       "      <td>JED</td>\n",
       "      <td>105</td>\n",
       "    </tr>\n",
       "  </tbody>\n",
       "</table>\n",
       "</div>"
      ],
      "text/plain": [
       "  TLastName TFirstName  Classroom\n",
       "0      COOL     REUBEN        101\n",
       "1     KERBS     BENITO        102\n",
       "2    FALKER     ADOLPH        103\n",
       "3     STEIB       GALE        104\n",
       "4     HANTZ        JED        105"
      ]
     },
     "execution_count": 3,
     "metadata": {},
     "output_type": "execute_result"
    }
   ],
   "source": [
    "columns = ['TLastName', 'TFirstName', 'Classroom',]\n",
    "teachers = pd.read_csv('teachers.txt', names=columns)\n",
    "teachers.head()"
   ]
  },
  {
   "cell_type": "code",
   "execution_count": 4,
   "metadata": {},
   "outputs": [],
   "source": [
    "df = students.join(teachers.set_index('Classroom'), on='Classroom')"
   ]
  },
  {
   "cell_type": "code",
   "execution_count": 105,
   "metadata": {},
   "outputs": [],
   "source": [
    "# ******************************************************************************\n",
    "#                       lastNameBus\n",
    "# Returns the information of the student depending on the student last name\n",
    "# For each entry found, print the last name, first name and\n",
    "# the bus route the student takes.\n",
    "# ******************************************************************************\n",
    "def lastNameBus(last):\n",
    "    bus = df.loc[df['StLastName'] == last]\n",
    "    j = bus.shape[0]\n",
    "    if j == 0:\n",
    "        print('')\n",
    "        return\n",
    "    for i in range(0, j):\n",
    "        lName = bus.iloc[i][0]\n",
    "        fName = bus.iloc[i][1]\n",
    "        bNum = bus.iloc[i][4]\n",
    "        print(\"%s,%s,%s\" %(lName, fName, bNum))"
   ]
  },
  {
   "cell_type": "code",
   "execution_count": 106,
   "metadata": {},
   "outputs": [],
   "source": [
    "#lastNameBus('COOKUS')"
   ]
  },
  {
   "cell_type": "code",
   "execution_count": 107,
   "metadata": {},
   "outputs": [],
   "source": [
    "# ******************************************************************************\n",
    "#                       studentLastname\n",
    "# Returns the information of the student depending on the student last name\n",
    "# For each entry found, print the last name, first name, grade and classroom\n",
    "# assignment for each student found and the name of their\n",
    "# teacher (last and first name).\n",
    "# ******************************************************************************\n",
    "def studentLastname(last):\n",
    "    bus = df.loc[df['StLastName'] == last]\n",
    "    j = bus.shape[0]\n",
    "    if j == 0:\n",
    "        print('')\n",
    "        return\n",
    "    for i in range(0, j):\n",
    "        lName = bus.iloc[i][0]\n",
    "        fName = bus.iloc[i][1]\n",
    "        gra = bus.iloc[i][2]\n",
    "        cRoom = bus.iloc[i][3]\n",
    "        tLast = bus.iloc[i][6]\n",
    "        tFirst =bus.iloc[i][7]\n",
    "        print('%s,%s,%s,%s,%s,%s' %(lName, fName, gra, cRoom, tLast, tFirst))"
   ]
  },
  {
   "cell_type": "code",
   "execution_count": 108,
   "metadata": {},
   "outputs": [],
   "source": [
    "#studentLastname('COOKUS')"
   ]
  },
  {
   "cell_type": "code",
   "execution_count": 109,
   "metadata": {},
   "outputs": [],
   "source": [
    "# ******************************************************************************\n",
    "#                       teacher\n",
    "# Search for teacher by last name\n",
    "# For each entry found, print the last and the first name of the student.\n",
    "# ******************************************************************************\n",
    "def teacher(tlast):\n",
    "    tlast = df.loc[df['TLastName'] == tlast]\n",
    "    j = tlast.shape[0]\n",
    "    if j == 0:\n",
    "        print('')\n",
    "        return\n",
    "    for i in range(0, j):\n",
    "        lName = tlast.iloc[i][0]\n",
    "        fName = tlast.iloc[i][1]\n",
    "        print('%s,%s' %(lName, fName))"
   ]
  },
  {
   "cell_type": "code",
   "execution_count": 112,
   "metadata": {},
   "outputs": [],
   "source": [
    "#teacher('GAMBREL')"
   ]
  },
  {
   "cell_type": "code",
   "execution_count": 113,
   "metadata": {},
   "outputs": [],
   "source": [
    "# ******************************************************************************\n",
    "#                       busRoute\n",
    "# Returns the student list of a given bus route\n",
    "# For each such entry, output the first and the last name of the student\n",
    "# and their grade and classroom.\n",
    "# ******************************************************************************\n",
    "def busRoute(busNum):\n",
    "    bus = df.loc[df['Bus'] == busNum].head()\n",
    "    j = bus.shape[0]\n",
    "    if j == 0:\n",
    "        print('')\n",
    "        return\n",
    "    for i in range(0,j):\n",
    "        fName = bus.iloc[i][1]\n",
    "        lName = bus.iloc[i][0]\n",
    "        gra = bus.iloc[i][2]\n",
    "        cRoom = bus.iloc[i][3]\n",
    "        print(\"%s,%s,%s,%s\" %(fName, lName, gra, cRoom))"
   ]
  },
  {
   "cell_type": "code",
   "execution_count": 115,
   "metadata": {},
   "outputs": [],
   "source": [
    "#busRoute(52)"
   ]
  },
  {
   "cell_type": "code",
   "execution_count": 117,
   "metadata": {},
   "outputs": [],
   "source": [
    "# ******************************************************************************\n",
    "#                       studentsInGrade\n",
    "# Returns all students within a certain grade\n",
    "# For each entry, output the name (last and first) of the student\n",
    "# ******************************************************************************\n",
    "def studentsInGrade(grade):\n",
    "    grade = df.loc[df['Grade'] == grade]\n",
    "    j = grade.shape[0]\n",
    "    if j == 0:\n",
    "        print('')\n",
    "        return\n",
    "    for i in range(0,j):\n",
    "        lName = grade.iloc[i][0]\n",
    "        fName = grade.iloc[i][1]\n",
    "        print(\"%s,%s\" %(lName, fName))"
   ]
  },
  {
   "cell_type": "code",
   "execution_count": 119,
   "metadata": {},
   "outputs": [],
   "source": [
    "#studentsInGrade(4)"
   ]
  },
  {
   "cell_type": "code",
   "execution_count": 120,
   "metadata": {},
   "outputs": [],
   "source": [
    "# ******************************************************************************\n",
    "#                       lowestGPA\n",
    "# Given a specific grade, the student with the lowest gpa is returned\n",
    "# If the L[ow] keyword is used in the command, find the entry in the\n",
    "# students.txt file for the given grade with the lowest GPA.\n",
    "# Report the contents of this entry (name of the student, GPA,\n",
    "# teacher, bus route).\n",
    "# ******************************************************************************\n",
    "def lowestGPA(grade):\n",
    "    grade = df.loc[df['Grade'] == grade]\n",
    "    grade = grade.sort_values(by=['Gpa']).head(1)\n",
    "    lName = grade.iloc[0][0]\n",
    "    fName = grade.iloc[0][1]\n",
    "    gp = grade.iloc[0][5]\n",
    "    tlast = grade.iloc[0][6]\n",
    "    tfirst = grade.iloc[0][7]\n",
    "    bRoute = grade.iloc[0][3]\n",
    "    print('%s,%s,%s,%s,%s,%s' %(lName, fName, gp, tlast, tfirst, bRoute))"
   ]
  },
  {
   "cell_type": "code",
   "execution_count": 132,
   "metadata": {},
   "outputs": [],
   "source": [
    "# ******************************************************************************\n",
    "#                       highestGPA\n",
    "# Given a specific grade, the student with the highest gpa is returned\n",
    "# If the H[igh] keyword is used in the command, find the entry in the\n",
    "# students.txt file for the given grade with the highest GPA. Report the\n",
    "# contents of this entry (name of the student, GPA, teacher, bus route).\n",
    "# ******************************************************************************\n",
    "def highestGPA(grade):\n",
    "    grade = df.loc[df['Grade'] == grade]\n",
    "    grade = grade.sort_values(by=['Gpa'], ascending=False).head(1)\n",
    "    lName = grade.iloc[0][0]\n",
    "    fName = grade.iloc[0][1]\n",
    "    gp = grade.iloc[0][5]\n",
    "    tlast = grade.iloc[0][6]\n",
    "    tfirst = grade.iloc[0][7]\n",
    "    bRoute = grade.iloc[0][3]\n",
    "    print('%s,%s,%s,%s,%s,%s' %(lName, fName, gp, tlast, tfirst, bRoute))"
   ]
  },
  {
   "cell_type": "code",
   "execution_count": 121,
   "metadata": {},
   "outputs": [],
   "source": [
    "# ******************************************************************************\n",
    "#                       average\n",
    "# When this instruction is issued your program shall perform the following\n",
    "# actions:\n",
    "#  Search the contents of the students.txt file for the entries where the\n",
    "#   student’s grade matches the number provided in the instruction.\n",
    "#  Compute the average GPA score for the entries found. Output the grade level\n",
    "#   (the number provided in command) and the average GPA score computed.\n",
    "# ******************************************************************************\n",
    "def average(gradeLevel):\n",
    "    avg = df.loc[df['Grade'] == gradeLevel]\n",
    "    # Print variable value as well\n",
    "    print(\"Grade:%d\\t\\tAverage GPA:%0.2f\" %(gradeLevel, avg['Gpa'].mean()))"
   ]
  },
  {
   "cell_type": "code",
   "execution_count": 124,
   "metadata": {},
   "outputs": [],
   "source": [
    "# ******************************************************************************\n",
    "#                       info\n",
    "# When this instruction is issued your program shall perform the following\n",
    "# actions:\n",
    "#  For each grade (from 0 to 6) compute the total number of students in that\n",
    "#   grade.\n",
    "#  Report the number of students in each grade in the format\n",
    "# <Grade>: <Number of Students>\n",
    "# sorted in ascending order by grade.\n",
    "# ******************************************************************************\n",
    "def gradeRange():\n",
    "    for i in range(0, 7):\n",
    "        info = df.loc[df['Grade'] == i]\n",
    "        print(\"Grade:%d\\t\\tNumber of Students:%d\" %(i,info.shape[0]))"
   ]
  },
  {
   "cell_type": "code",
   "execution_count": 136,
   "metadata": {},
   "outputs": [],
   "source": []
  },
  {
   "cell_type": "code",
   "execution_count": 137,
   "metadata": {},
   "outputs": [],
   "source": [
    "# ******************************************************************************\n",
    "#                       classRoomStudents\n",
    "# Given a classroom number, list all students assigned to it.\n",
    "# ******************************************************************************\n",
    "def classRoomStudents(room):\n",
    "    classroom = df.loc[df['Classroom'] == room]\n",
    "    j = classroom.shape[0]\n",
    "    if j == 0:\n",
    "        print('')\n",
    "    else:\n",
    "        for i in range(0,j):\n",
    "            sLast = classroom.iloc[i][0]\n",
    "            sFirst = classroom.iloc[i][1]\n",
    "            print(\"%s,%s\" %(sLast,sFirst))"
   ]
  },
  {
   "cell_type": "code",
   "execution_count": 138,
   "metadata": {},
   "outputs": [],
   "source": [
    "#classRoomStudents(107)"
   ]
  },
  {
   "cell_type": "code",
   "execution_count": 139,
   "metadata": {},
   "outputs": [],
   "source": [
    "# ******************************************************************************\n",
    "#                       classRoomTeachers\n",
    "# Given a classroom number, find the teacher (or teachers) teaching in it.\n",
    "# Need to functionalize\n",
    "# ******************************************************************************\n",
    "def classRoomTeachers(number):\n",
    "    classroom = df.loc[df['Classroom'] == number]\n",
    "    classroom = classroom.drop_duplicates('TLastName')\n",
    "    j = classroom.shape[0]\n",
    "    if j == 0:\n",
    "        print('')\n",
    "    else:\n",
    "        for i in range(0,j):\n",
    "            tLast = classroom.iloc[i][6]\n",
    "            tFirst = classroom.iloc[i][7]\n",
    "            print('%s,%s' %(tLast, tFirst))"
   ]
  },
  {
   "cell_type": "code",
   "execution_count": 140,
   "metadata": {},
   "outputs": [],
   "source": [
    "# ******************************************************************************\n",
    "#                       teacherByGrade\n",
    "# Given a grade, find all teachers who teach it.\n",
    "# ******************************************************************************\n",
    "def teacherByGrade(grade):\n",
    "    teacher = df.loc[df['Grade'] == grade]\n",
    "    teacher = teacher.drop_duplicates('TLastName')\n",
    "    j = teacher.shape[0]\n",
    "    if j == 0:\n",
    "        print('')\n",
    "    else:\n",
    "        for i in range(0,j):\n",
    "            tLast = teacher.iloc[i][6]\n",
    "            tFirst = teacher.iloc[i][7]\n",
    "            print('%s,%s' %(tLast, tFirst))"
   ]
  },
  {
   "cell_type": "code",
   "execution_count": 141,
   "metadata": {},
   "outputs": [],
   "source": [
    "# ******************************************************************************\n",
    "#                       enrollment                         \n",
    "# Report the enrollments broken down by classroom \n",
    "# (i.e., output a list of classrooms ordered by classroom number, \n",
    "# with a total number of students in each of the classrooms).\n",
    "# ******************************************************************************\n",
    "def enrollment():\n",
    "    enroll = df.sort_values('Classroom', ascending=True)\n",
    "    a = enroll['Classroom'].drop_duplicates().values\n",
    "    for i in range(0, len(a)):\n",
    "        frame = enroll[enroll['Classroom'] == a[i]]\n",
    "        rows = len(frame)\n",
    "        print('Classroom:%d\\tNumber of students:%d' %(a[i], rows))"
   ]
  },
  {
   "cell_type": "code",
   "execution_count": 198,
   "metadata": {},
   "outputs": [],
   "source": [
    "# ******************************************************************************\n",
    "#                       busGpaAverage                         \n",
    "# A report of each bus route and the average GPA of its students\n",
    "# ******************************************************************************\n",
    "def busGpaAverage():\n",
    "    dictionary = {}\n",
    "    bga = df.sort_values('Bus', ascending=True)\n",
    "    a = bga['Bus'].drop_duplicates().values\n",
    "    for i in range(0, len(a)):\n",
    "        dictionary[a[i]] = bga[bga['Bus'] == a[i]]['Gpa'].mean()\n",
    "    #print(dictionary)\n",
    "    mgpa = 0\n",
    "    for value in dictionary:\n",
    "        mgpa += float(dictionary[value])\n",
    "    mgpa = mgpa / len(dictionary)\n",
    "    for value in dictionary:\n",
    "        print('Bus route:%d\\t gpa average:%0.2f\\tschool gpa:%0.2f\\tDifference:%0.2f' %(value, dictionary[value], mgpa, dictionary[value]-mgpa))"
   ]
  },
  {
   "cell_type": "code",
   "execution_count": null,
   "metadata": {},
   "outputs": [],
   "source": []
  },
  {
   "cell_type": "code",
   "execution_count": null,
   "metadata": {},
   "outputs": [],
   "source": []
  },
  {
   "cell_type": "code",
   "execution_count": 199,
   "metadata": {},
   "outputs": [
    {
     "name": "stdout",
     "output_type": "stream",
     "text": [
      "Bus route:0\t gpa average:2.95\tschool gpa:2.97\tDifference:-0.02\n",
      "Bus route:51\t gpa average:3.02\tschool gpa:2.97\tDifference:0.05\n",
      "Bus route:52\t gpa average:2.88\tschool gpa:2.97\tDifference:-0.09\n",
      "Bus route:53\t gpa average:3.06\tschool gpa:2.97\tDifference:0.08\n",
      "Bus route:54\t gpa average:2.94\tschool gpa:2.97\tDifference:-0.03\n",
      "Bus route:55\t gpa average:3.04\tschool gpa:2.97\tDifference:0.06\n",
      "Bus route:56\t gpa average:2.92\tschool gpa:2.97\tDifference:-0.05\n"
     ]
    }
   ],
   "source": [
    "\n",
    "# ******************************************************************************\n",
    "#                       testing block\n",
    "# ******************************************************************************\n",
    "grade = 2\n",
    "#print(df.head(10))\n",
    "#lastNameBus('WOOLERY')\n",
    "#studentLastname('WOOLERY')\n",
    "#teacher('GAMBREL')\n",
    "#busRoute(52)\n",
    "#studentsInGrade(grade)\n",
    "#lowestGPA(grade)\n",
    "#highestGPA(grade)\n",
    "#average(grade)\n",
    "#gradeRange()\n",
    "#classRoomTeachers(110)\n",
    "#teacherByGrade(grade)\n",
    "#enrollment()\n",
    "busGpaAverage()"
   ]
  },
  {
   "cell_type": "code",
   "execution_count": null,
   "metadata": {},
   "outputs": [],
   "source": []
  },
  {
   "cell_type": "code",
   "execution_count": null,
   "metadata": {},
   "outputs": [],
   "source": []
  }
 ],
 "metadata": {
  "kernelspec": {
   "display_name": "Python 3",
   "language": "python",
   "name": "python3"
  },
  "language_info": {
   "codemirror_mode": {
    "name": "ipython",
    "version": 3
   },
   "file_extension": ".py",
   "mimetype": "text/x-python",
   "name": "python",
   "nbconvert_exporter": "python",
   "pygments_lexer": "ipython3",
   "version": "3.6.4"
  }
 },
 "nbformat": 4,
 "nbformat_minor": 2
}
