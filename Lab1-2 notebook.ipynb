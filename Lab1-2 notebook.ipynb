{
 "cells": [
  {
   "cell_type": "code",
   "execution_count": 1,
   "metadata": {},
   "outputs": [],
   "source": [
    "import pandas as pd"
   ]
  },
  {
   "cell_type": "code",
   "execution_count": 2,
   "metadata": {},
   "outputs": [],
   "source": [
    "columns = ['StLastName', 'StFirstName', 'Grade', 'Classroom', 'Bus', 'Gpa']\n",
    "students = pd.read_csv('list.txt', names=columns)"
   ]
  },
  {
   "cell_type": "code",
   "execution_count": 3,
   "metadata": {},
   "outputs": [],
   "source": [
    "columns = ['TLastName', 'TFirstName', 'Classroom',]\n",
    "teachers = pd.read_csv('teachers.txt', names=columns)"
   ]
  },
  {
   "cell_type": "code",
   "execution_count": 4,
   "metadata": {},
   "outputs": [],
   "source": [
    "df = students.join(teachers.set_index('Classroom'), on='Classroom')"
   ]
  },
  {
   "cell_type": "code",
   "execution_count": 5,
   "metadata": {},
   "outputs": [],
   "source": [
    "# ******************************************************************************\n",
    "#                       lastNameBus\n",
    "# Returns the information of the student depending on the student last name\n",
    "# For each entry found, print the last name, first name and\n",
    "# the bus route the student takes.\n",
    "# ******************************************************************************\n",
    "def lastNameBus(last):\n",
    "    bus = df.loc[df['StLastName'] == last]\n",
    "    j = bus.shape[0]\n",
    "    if j == 0:\n",
    "        print('')\n",
    "        return\n",
    "    for i in range(0, j):\n",
    "        lName = bus.iloc[i][0]\n",
    "        fName = bus.iloc[i][1]\n",
    "        bNum = bus.iloc[i][4]\n",
    "        print(\"%s,%s,%s\" %(lName, fName, bNum))"
   ]
  },
  {
   "cell_type": "code",
   "execution_count": 6,
   "metadata": {},
   "outputs": [],
   "source": [
    "# ******************************************************************************\n",
    "#                       studentLastname\n",
    "# Returns the information of the student depending on the student last name\n",
    "# For each entry found, print the last name, first name, grade and classroom\n",
    "# assignment for each student found and the name of their\n",
    "# teacher (last and first name).\n",
    "# ******************************************************************************\n",
    "def studentLastname(last):\n",
    "    bus = df.loc[df['StLastName'] == last]\n",
    "    j = bus.shape[0]\n",
    "    if j == 0:\n",
    "        print('')\n",
    "        return\n",
    "    for i in range(0, j):\n",
    "        lName = bus.iloc[i][0]\n",
    "        fName = bus.iloc[i][1]\n",
    "        gra = bus.iloc[i][2]\n",
    "        cRoom = bus.iloc[i][3]\n",
    "        tLast = bus.iloc[i][6]\n",
    "        tFirst =bus.iloc[i][7]\n",
    "        print('%s,%s,%s,%s,%s,%s' %(lName, fName, gra, cRoom, tLast, tFirst))"
   ]
  },
  {
   "cell_type": "code",
   "execution_count": 7,
   "metadata": {},
   "outputs": [],
   "source": [
    "# ******************************************************************************\n",
    "#                       teacher\n",
    "# Search for teacher by last name\n",
    "# For each entry found, print the last and the first name of the student.\n",
    "# ******************************************************************************\n",
    "def teacher(tlast):\n",
    "    tlast = df.loc[df['TLastName'] == tlast]\n",
    "    j = tlast.shape[0]\n",
    "    if j == 0:\n",
    "        print('')\n",
    "        return\n",
    "    for i in range(0, j):\n",
    "        lName = tlast.iloc[i][0]\n",
    "        fName = tlast.iloc[i][1]\n",
    "        print('%s,%s' %(lName, fName))"
   ]
  },
  {
   "cell_type": "code",
   "execution_count": 8,
   "metadata": {},
   "outputs": [],
   "source": [
    "# ******************************************************************************\n",
    "#                       busRoute\n",
    "# Returns the student list of a given bus route\n",
    "# For each such entry, output the first and the last name of the student\n",
    "# and their grade and classroom.\n",
    "# ******************************************************************************\n",
    "def busRoute(busNum):\n",
    "    bus = df.loc[df['Bus'] == busNum].head()\n",
    "    j = bus.shape[0]\n",
    "    if j == 0:\n",
    "        print('')\n",
    "        return\n",
    "    for i in range(0,j):\n",
    "        fName = bus.iloc[i][1]\n",
    "        lName = bus.iloc[i][0]\n",
    "        gra = bus.iloc[i][2]\n",
    "        cRoom = bus.iloc[i][3]\n",
    "        print(\"%s,%s,%s,%s\" %(fName, lName, gra, cRoom))"
   ]
  },
  {
   "cell_type": "code",
   "execution_count": 9,
   "metadata": {},
   "outputs": [],
   "source": [
    "# ******************************************************************************\n",
    "#                       studentsInGrade\n",
    "# Returns all students within a certain grade\n",
    "# For each entry, output the name (last and first) of the student\n",
    "# ******************************************************************************\n",
    "def studentsInGrade(grade):\n",
    "    grade = df.loc[df['Grade'] == grade]\n",
    "    j = grade.shape[0]\n",
    "    if j == 0:\n",
    "        print('')\n",
    "        return\n",
    "    for i in range(0,j):\n",
    "        lName = grade.iloc[i][0]\n",
    "        fName = grade.iloc[i][1]\n",
    "        print(\"%s,%s\" %(lName, fName))"
   ]
  },
  {
   "cell_type": "code",
   "execution_count": 10,
   "metadata": {},
   "outputs": [],
   "source": [
    "# ******************************************************************************\n",
    "#                       lowestGPA\n",
    "# Given a specific grade, the student with the lowest gpa is returned\n",
    "# If the L[ow] keyword is used in the command, find the entry in the\n",
    "# students.txt file for the given grade with the lowest GPA.\n",
    "# Report the contents of this entry (name of the student, GPA,\n",
    "# teacher, bus route).\n",
    "# ******************************************************************************\n",
    "def lowestGPA(grade):\n",
    "    grade = df.loc[df['Grade'] == grade]\n",
    "    grade = grade.sort_values(by=['Gpa']).head(1)\n",
    "    lName = grade.iloc[0][0]\n",
    "    fName = grade.iloc[0][1]\n",
    "    gp = grade.iloc[0][5]\n",
    "    tlast = grade.iloc[0][6]\n",
    "    tfirst = grade.iloc[0][7]\n",
    "    bRoute = grade.iloc[0][3]\n",
    "    print('%s,%s,%s,%s,%s,%s' %(lName, fName, gp, tlast, tfirst, bRoute))"
   ]
  },
  {
   "cell_type": "code",
   "execution_count": 11,
   "metadata": {},
   "outputs": [],
   "source": [
    "# ******************************************************************************\n",
    "#                       highestGPA\n",
    "# Given a specific grade, the student with the highest gpa is returned\n",
    "# If the H[igh] keyword is used in the command, find the entry in the\n",
    "# students.txt file for the given grade with the highest GPA. Report the\n",
    "# contents of this entry (name of the student, GPA, teacher, bus route).\n",
    "# ******************************************************************************\n",
    "def highestGPA(grade):\n",
    "    grade = df.loc[df['Grade'] == grade]\n",
    "    grade = grade.sort_values(by=['Gpa'], ascending=False).head(1)\n",
    "    lName = grade.iloc[0][0]\n",
    "    fName = grade.iloc[0][1]\n",
    "    gp = grade.iloc[0][5]\n",
    "    tlast = grade.iloc[0][6]\n",
    "    tfirst = grade.iloc[0][7]\n",
    "    bRoute = grade.iloc[0][3]\n",
    "    print('%s,%s,%s,%s,%s,%s' %(lName, fName, gp, tlast, tfirst, bRoute))"
   ]
  },
  {
   "cell_type": "code",
   "execution_count": 12,
   "metadata": {},
   "outputs": [],
   "source": [
    "# ******************************************************************************\n",
    "#                       average\n",
    "# When this instruction is issued your program shall perform the following\n",
    "# actions:\n",
    "#  Search the contents of the students.txt file for the entries where the\n",
    "#   student’s grade matches the number provided in the instruction.\n",
    "#  Compute the average GPA score for the entries found. Output the grade level\n",
    "#   (the number provided in command) and the average GPA score computed.\n",
    "# ******************************************************************************\n",
    "def average(gradeLevel):\n",
    "    avg = df.loc[df['Grade'] == gradeLevel]\n",
    "    # Print variable value as well\n",
    "    print(\"Grade:%d\\t\\tAverage GPA:%0.2f\" %(gradeLevel, avg['Gpa'].mean()))"
   ]
  },
  {
   "cell_type": "code",
   "execution_count": 13,
   "metadata": {},
   "outputs": [],
   "source": [
    "# ******************************************************************************\n",
    "#                       info\n",
    "# When this instruction is issued your program shall perform the following\n",
    "# actions:\n",
    "#  For each grade (from 0 to 6) compute the total number of students in that\n",
    "#   grade.\n",
    "#  Report the number of students in each grade in the format\n",
    "# <Grade>: <Number of Students>\n",
    "# sorted in ascending order by grade.\n",
    "# ******************************************************************************\n",
    "def gradeRange():\n",
    "    for i in range(0, 7):\n",
    "        info = df.loc[df['Grade'] == i]\n",
    "        print(\"Grade:%d\\t\\tNumber of Students:%d\" %(i,info.shape[0]))"
   ]
  },
  {
   "cell_type": "code",
   "execution_count": 14,
   "metadata": {},
   "outputs": [],
   "source": [
    "# ******************************************************************************\n",
    "#                       classRoomStudents\n",
    "# Given a classroom number, list all students assigned to it.\n",
    "# ******************************************************************************\n",
    "def classRoomStudents(room):\n",
    "    classroom = df.loc[df['Classroom'] == room]\n",
    "    j = classroom.shape[0]\n",
    "    if j == 0:\n",
    "        print('')\n",
    "    else:\n",
    "        for i in range(0,j):\n",
    "            sLast = classroom.iloc[i][0]\n",
    "            sFirst = classroom.iloc[i][1]\n",
    "            print(\"%s,%s\" %(sLast,sFirst))"
   ]
  },
  {
   "cell_type": "code",
   "execution_count": 15,
   "metadata": {},
   "outputs": [],
   "source": [
    "# ******************************************************************************\n",
    "#                       classRoomTeachers\n",
    "# Given a classroom number, find the teacher (or teachers) teaching in it.\n",
    "# Need to functionalize\n",
    "# ******************************************************************************\n",
    "def classRoomTeachers(number):\n",
    "    classroom = df.loc[df['Classroom'] == number]\n",
    "    classroom = classroom.drop_duplicates('TLastName')\n",
    "    j = classroom.shape[0]\n",
    "    if j == 0:\n",
    "        print('')\n",
    "    else:\n",
    "        for i in range(0,j):\n",
    "            tLast = classroom.iloc[i][6]\n",
    "            tFirst = classroom.iloc[i][7]\n",
    "            print('%s,%s' %(tLast, tFirst))"
   ]
  },
  {
   "cell_type": "code",
   "execution_count": 16,
   "metadata": {},
   "outputs": [],
   "source": [
    "# ******************************************************************************\n",
    "#                       teacherByGrade\n",
    "# Given a grade, find all teachers who teach it.\n",
    "# ******************************************************************************\n",
    "def teacherByGrade(grade):\n",
    "    teacher = df.loc[df['Grade'] == grade]\n",
    "    teacher = teacher.drop_duplicates('TLastName')\n",
    "    j = teacher.shape[0]\n",
    "    if j == 0:\n",
    "        print('')\n",
    "    else:\n",
    "        for i in range(0,j):\n",
    "            tLast = teacher.iloc[i][6]\n",
    "            tFirst = teacher.iloc[i][7]\n",
    "            print('%s,%s' %(tLast, tFirst))"
   ]
  },
  {
   "cell_type": "code",
   "execution_count": 17,
   "metadata": {},
   "outputs": [],
   "source": [
    "# ******************************************************************************\n",
    "#                       enrollment                         \n",
    "# Report the enrollments broken down by classroom \n",
    "# (i.e., output a list of classrooms ordered by classroom number, \n",
    "# with a total number of students in each of the classrooms).\n",
    "# ******************************************************************************\n",
    "def enrollment():\n",
    "    enroll = df.sort_values('Classroom', ascending=True)\n",
    "    a = enroll['Classroom'].drop_duplicates().values\n",
    "    for i in range(0, len(a)):\n",
    "        frame = enroll[enroll['Classroom'] == a[i]]\n",
    "        rows = len(frame)\n",
    "        print('Classroom:%d\\tNumber of students:%d' %(a[i], rows))"
   ]
  },
  {
   "cell_type": "code",
   "execution_count": 18,
   "metadata": {},
   "outputs": [],
   "source": [
    "# ******************************************************************************\n",
    "#                       busGpaAverage                         \n",
    "# A report of each bus route and the average GPA of its students\n",
    "# ******************************************************************************\n",
    "def busGpaAverage():\n",
    "    bga = df\n",
    "    bga = bga.set_index('Bus').sort_index()\n",
    "    bga = bga['Gpa'].mean(level=0)\n",
    "    bga = bga.reset_index()\n",
    "    bga = bga.sort_values(by='Gpa', ascending=False)\n",
    "    for x in range(0, bga.shape[0]):\n",
    "        b = bga.iloc[x][0]\n",
    "        g = bga.iloc[x][1]\n",
    "        print('Gpa_Avg:%0.2f\\tBus:%d' %(g, b))\n",
    "    print('Overall Gpa mean:%0.2f' %bga.Gpa.mean())\n",
    "    print('Standard deviation:%0.2f' %bga.Gpa.std())"
   ]
  },
  {
   "cell_type": "code",
   "execution_count": 19,
   "metadata": {},
   "outputs": [],
   "source": [
    "# ******************************************************************************\n",
    "#                       gradeGpaAverage                         \n",
    "# A report of each grade and the average GPA of its students\n",
    "# ******************************************************************************\n",
    "def gradeGpaAverage():\n",
    "    gga = df\n",
    "    gga = gga.set_index('Grade')\n",
    "    gga = gga.sort_index()\n",
    "    grades = gga['Gpa'].mean(level=0)\n",
    "    grades = grades.reset_index()\n",
    "    for x in range(0,7):\n",
    "        if x == 0:\n",
    "            print('Grade:0\\tGpa:No students enrolled')\n",
    "        elif x == 5:\n",
    "            print('Grade:5\\tGpa:No students enrolled')\n",
    "        else:\n",
    "            g = float(grades[grades['Grade'] == x].Gpa)\n",
    "            print('Grade:%d\\tGpa:%0.2f' %(x, g))\n",
    "    print('Overall Gpa mean:%0.2f' %grades.Gpa.mean())\n",
    "    print('Standard deviation:%0.2f' %grades.Gpa.std())"
   ]
  },
  {
   "cell_type": "code",
   "execution_count": 20,
   "metadata": {},
   "outputs": [],
   "source": [
    "# ******************************************************************************\n",
    "#                       teacherGpaAverage                         \n",
    "# A report of each teacher and the average GPA of their students\n",
    "# ******************************************************************************\n",
    "def teacherGpaAverage():\n",
    "    import matplotlib.pyplot as plt\n",
    "    teach = df\n",
    "    teach = teach.set_index('TLastName').sort_index()\n",
    "    grades = teach['Gpa'].mean(level=0)\n",
    "    grades = grades.reset_index()\n",
    "    teach = teach.reset_index()\n",
    "    teach = teach[['TLastName', 'TFirstName', 'Grade']]\n",
    "    teach = teach.merge(grades)[['TLastName', 'TFirstName', 'Gpa', 'Grade']].drop_duplicates()\n",
    "    teach = teach.sort_values(by='Gpa', ascending=False)\n",
    "    for x in range(0, teach.shape[0]):\n",
    "        t = teach.iloc[x][0]\n",
    "        l = teach.iloc[x][1]\n",
    "        g = teach.iloc[x][2]\n",
    "        gr = teach.iloc[x][3]\n",
    "        print('Gpa:%0.2f\\tGrade:%d\\t\\tTeacher:%s,%s' %(g, gr, t, l))\n",
    "    print('Overall Gpa mean:%0.2f' %teach.Gpa.mean())\n",
    "    print('Standard Deviation:%0.2f' %teach.Gpa.std())"
   ]
  },
  {
   "cell_type": "code",
   "execution_count": 21,
   "metadata": {},
   "outputs": [],
   "source": [
    "# ******************************************************************************\n",
    "#                       testing block\n",
    "# ******************************************************************************\n",
    "#grade = 2\n",
    "#print(df.head(10))\n",
    "#lastNameBus('WOOLERY')\n",
    "#studentLastname('WOOLERY')\n",
    "#teacher('GAMBREL')\n",
    "#busRoute(52)\n",
    "#studentsInGrade(grade)\n",
    "#lowestGPA(grade)\n",
    "#highestGPA(grade)\n",
    "#average(grade)\n",
    "#gradeRange()\n",
    "#classRoomTeachers(110)\n",
    "#teacherByGrade(grade)\n",
    "#enrollment()\n",
    "#busGpaAverage()\n",
    "#gradeGpaAverage()\n",
    "#teacherGpaAverage()"
   ]
  }
 ],
 "metadata": {
  "kernelspec": {
   "display_name": "Python 3",
   "language": "python",
   "name": "python3"
  },
  "language_info": {
   "codemirror_mode": {
    "name": "ipython",
    "version": 3
   },
   "file_extension": ".py",
   "mimetype": "text/x-python",
   "name": "python",
   "nbconvert_exporter": "python",
   "pygments_lexer": "ipython3",
   "version": "3.6.4"
  }
 },
 "nbformat": 4,
 "nbformat_minor": 2
}
